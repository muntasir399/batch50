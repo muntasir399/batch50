{
  "nbformat": 4,
  "nbformat_minor": 0,
  "metadata": {
    "colab": {
      "provenance": [],
      "authorship_tag": "ABX9TyOWGHN5TxHMpzV3Eq0khPM/",
      "include_colab_link": true
    },
    "kernelspec": {
      "name": "python3",
      "display_name": "Python 3"
    },
    "language_info": {
      "name": "python"
    }
  },
  "cells": [
    {
      "cell_type": "markdown",
      "metadata": {
        "id": "view-in-github",
        "colab_type": "text"
      },
      "source": [
        "<a href=\"https://colab.research.google.com/github/muntasir399/batch50/blob/main/assignment1.ipynb\" target=\"_parent\"><img src=\"https://colab.research.google.com/assets/colab-badge.svg\" alt=\"Open In Colab\"/></a>"
      ]
    },
    {
      "cell_type": "code",
      "execution_count": null,
      "metadata": {
        "colab": {
          "base_uri": "https://localhost:8080/"
        },
        "id": "IPJAyEHn3J2z",
        "outputId": "cdbe5e34-a85c-4668-8d73-e4cb6a56eccc"
      },
      "outputs": [
        {
          "output_type": "stream",
          "name": "stdout",
          "text": [
            "li1 = [2j, (1+3j), (2+4j), (3+5j), (4+6j), (5+7j)]\n",
            "li2 = [(2+4j), (4+6j), (6+8j), (8+10j), (10+12j), (12+14j)]\n",
            "li3= [(2+6j), (5+9j), (8+12j), (11+15j), (14+18j), (17+21j)]\n",
            "Encoded Message Size of type <class 'bytes'>:  145\n",
            "List Size of type <class 'list'>:  120\n",
            "Encoded Message Size of type <class 'str'>:  104\n",
            "Original list after addition [(2+6j), (5+9j), (8+12j), (11+15j), (14+18j), (17+21j)]\n",
            "Encoded Message: b'\\xff\\xfe[\\x00(\\x002\\x00+\\x006\\x00j\\x00)\\x00,\\x00 \\x00(\\x005\\x00+\\x009\\x00j\\x00)\\x00,\\x00 \\x00(\\x008\\x00+\\x001\\x002\\x00j\\x00)\\x00,\\x00 \\x00(\\x001\\x001\\x00+\\x001\\x005\\x00j\\x00)\\x00,\\x00 \\x00(\\x001\\x004\\x00+\\x001\\x008\\x00j\\x00)\\x00,\\x00 \\x00(\\x001\\x007\\x00+\\x002\\x001\\x00j\\x00)\\x00]\\x00'\n",
            "b'\\xff\\xfe[\\x00(\\x002\\x00+\\x006\\x00j\\x00)\\x00,\\x00 \\x00(\\x005\\x00+\\x009\\x00j\\x00)\\x00,\\x00 \\x00(\\x008\\x00+\\x001\\x002\\x00j\\x00)\\x00,\\x00 \\x00(\\x001\\x001\\x00+\\x001\\x005\\x00j\\x00)\\x00,\\x00 \\x00(\\x001\\x004\\x00+\\x001\\x008\\x00j\\x00)\\x00,\\x00 \\x00(\\x001\\x007\\x00+\\x002\\x001\\x00j\\x00)\\x00]\\x00'\n"
          ]
        }
      ],
      "source": [
        "import sys  #sys module for using sys.getsizeof()\n",
        "\n",
        "def addComplex(z1, z2):# Define a function\n",
        "\n",
        "    return z1 + z2  #two complex numbers as inputs and returns their sum\n",
        "\n",
        "li1 = [complex(_, 2+_) for _ in range(6)]  #Create a list of complex numbers (0 to 5 and increment of 2 in range of 6 to break)\n",
        "\n",
        "li2 = [complex(_, 2+_) for _ in range(2, 14, 2)]  #same as li1 but initializing from 2 brakes at 14 wit a increment of 2+\n",
        "\n",
        "\n",
        "li3 = [] #empty list for adding li1 and li2\n",
        "for i, j in zip(li1, li2):  #appending the result of li1  and li2 in li3\n",
        "\n",
        "    li3.append(addComplex(i, j))\n",
        "\n",
        "\n",
        "print(f\"li1 = {li1}\\nli2 = {li2}\\nli3= {li3}\")  #print all lists\n",
        "\n",
        "\n",
        "enc_mess = bytes(str(li3).encode('utf-16'))  #encoding li3 in utf-16 format with bytes\n",
        "\n",
        "\n",
        "print(f\"Encoded Message Size of type {type(enc_mess)}: \", sys.getsizeof(enc_mess))  #print the byte size\n",
        "\n",
        "\n",
        "print(f\"List Size of type {type(li3)}: \", sys.getsizeof(li3)) #print the size of li3 in bytes\n",
        "\n",
        "\n",
        "print(f\"Encoded Message Size of type {type(str(li3))}: \", sys.getsizeof(str(li3)))  #print the string size of li3 in bytes\n",
        "\n",
        "\n",
        "print(\"Original list after addition\", li3)  #print the targeted list after adding\n",
        "\n",
        "\n",
        "print(f\"Encoded Message: {enc_mess}\")  #print the encoded message in bytes\n",
        "\n",
        "\n",
        "print(bytes(str(li3), 'utf-16')) #print the li3 objects directly into byte size\n"
      ]
    }
  ]
}