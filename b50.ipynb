{
  "nbformat": 4,
  "nbformat_minor": 0,
  "metadata": {
    "colab": {
      "provenance": [],
      "authorship_tag": "ABX9TyM0weNU2p6P2SjeAIAbcbth",
      "include_colab_link": true
    },
    "kernelspec": {
      "name": "python3",
      "display_name": "Python 3"
    },
    "language_info": {
      "name": "python"
    }
  },
  "cells": [
    {
      "cell_type": "markdown",
      "metadata": {
        "id": "view-in-github",
        "colab_type": "text"
      },
      "source": [
        "<a href=\"https://colab.research.google.com/github/muntasir399/batch50/blob/main/b50.ipynb\" target=\"_parent\"><img src=\"https://colab.research.google.com/assets/colab-badge.svg\" alt=\"Open In Colab\"/></a>"
      ]
    },
    {
      "cell_type": "code",
      "execution_count": 1,
      "metadata": {
        "colab": {
          "base_uri": "https://localhost:8080/"
        },
        "id": "AUJXxDJX554K",
        "outputId": "e0fdcf45-6195-46d4-bc37-15c3975b1519"
      },
      "outputs": [
        {
          "output_type": "stream",
          "name": "stdout",
          "text": [
            "Reading from file:\n",
            "Hello World!\n",
            "This is an example file.\n",
            "\n",
            "\n",
            "Reading from file after update:\n",
            "Hello World!\n",
            "This is an example file.\n",
            "Adding a new line.\n",
            "\n",
            "\n",
            "Search result:\n",
            "Keyword 'new' found in line 3: Adding a new line.\n",
            "\n",
            "File deletion:\n",
            "example_file.txt deleted successfully.\n"
          ]
        }
      ],
      "source": [
        "# File Handling in Python\n",
        "\n",
        "# Define file name\n",
        "file_name = \"example_file.txt\"\n",
        "\n",
        "# Write to a file\n",
        "def write_to_file(data):\n",
        "    with open(file_name, 'w') as file:\n",
        "        file.write(data)\n",
        "\n",
        "# Read from a file\n",
        "def read_from_file():\n",
        "    with open(file_name, 'r') as file:\n",
        "        return file.read()\n",
        "\n",
        "# Update a file\n",
        "def update_file(data):\n",
        "    with open(file_name, 'a') as file:\n",
        "        file.write(data)\n",
        "\n",
        "# Delete a file\n",
        "def delete_file():\n",
        "    import os\n",
        "    if os.path.exists(file_name):\n",
        "        os.remove(file_name)\n",
        "        return f\"{file_name} deleted successfully.\"\n",
        "    else:\n",
        "        return f\"{file_name} does not exist.\"\n",
        "\n",
        "# Search within a file\n",
        "def search_in_file(keyword):\n",
        "    with open(file_name, 'r') as file:\n",
        "        lines = file.readlines()\n",
        "        for line_number, line in enumerate(lines, start=1):\n",
        "            if keyword in line:\n",
        "                return f\"Keyword '{keyword}' found in line {line_number}: {line.strip()}\"\n",
        "    return f\"Keyword '{keyword}' not found in the file.\"\n",
        "\n",
        "# Example Usage:\n",
        "# Write to file\n",
        "write_to_file(\"Hello World!\\nThis is an example file.\\n\")\n",
        "\n",
        "# Read from file\n",
        "print(\"Reading from file:\")\n",
        "print(read_from_file())\n",
        "\n",
        "# Update the file\n",
        "update_file(\"Adding a new line.\\n\")\n",
        "\n",
        "# Read again to see updates\n",
        "print(\"\\nReading from file after update:\")\n",
        "print(read_from_file())\n",
        "\n",
        "# Search in file\n",
        "print(\"\\nSearch result:\")\n",
        "print(search_in_file(\"new\"))\n",
        "\n",
        "# Delete the file\n",
        "print(\"\\nFile deletion:\")\n",
        "print(delete_file())\n"
      ]
    }
  ]
}