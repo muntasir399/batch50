{
  "nbformat": 4,
  "nbformat_minor": 0,
  "metadata": {
    "colab": {
      "provenance": [],
      "authorship_tag": "ABX9TyMvNsf37VCf3XnJnKqVcL4F",
      "include_colab_link": true
    },
    "kernelspec": {
      "name": "python3",
      "display_name": "Python 3"
    },
    "language_info": {
      "name": "python"
    }
  },
  "cells": [
    {
      "cell_type": "markdown",
      "metadata": {
        "id": "view-in-github",
        "colab_type": "text"
      },
      "source": [
        "<a href=\"https://colab.research.google.com/github/muntasir399/batch50/blob/main/calculator.ipynb\" target=\"_parent\"><img src=\"https://colab.research.google.com/assets/colab-badge.svg\" alt=\"Open In Colab\"/></a>"
      ]
    },
    {
      "cell_type": "code",
      "source": [
        "# Cell 1: Define Calculator Functions\n",
        "\n",
        "def add(a, b):\n",
        "    return a + b\n",
        "\n",
        "def sub(a, b):\n",
        "    if a > b:\n",
        "        return a - b\n",
        "    else:\n",
        "        return b - a\n",
        "\n",
        "def mul(a, b):\n",
        "    return a * b\n",
        "\n",
        "def div(a, b):\n",
        "    if b != 0:\n",
        "        return a / b\n",
        "    else:\n",
        "        return \"Infinity\"\n",
        "\n",
        "def pow(a, b):\n",
        "    return a ** b\n",
        "\n",
        "def mod(a, b):\n",
        "    return a % b\n",
        "# Cell 2: Main Code for Testing Calculator\n",
        "\n",
        "while True:\n",
        "    print(\"Select operation:\")\n",
        "    print(\"1. Add\")\n",
        "    print(\"2. Subtract\")\n",
        "    print(\"3. Multiply\")\n",
        "    print(\"4. Divide\")\n",
        "    print(\"5. Power\")\n",
        "    print(\"6. Modulus\")\n",
        "    print(\"0. Exit\")\n",
        "\n",
        "    choice = input(\"Enter your choice: \")\n",
        "\n",
        "    if choice == '0':\n",
        "        break\n",
        "\n",
        "    if choice in ['1', '2', '3', '4', '5', '6']:\n",
        "        a = float(input(\"Enter the first number: \"))\n",
        "        b = float(input(\"Enter the second number: \"))\n",
        "\n",
        "        if choice == '1':\n",
        "            print(f\"Result: {add(a, b)}\")\n",
        "        elif choice == '2':\n",
        "            print(f\"Result: {sub(a, b)}\")\n",
        "        elif choice == '3':\n",
        "            print(f\"Result: {mul(a, b)}\")\n",
        "        elif choice == '4':\n",
        "            print(f\"Result: {div(a, b)}\")\n",
        "        elif choice == '5':\n",
        "            print(f\"Result: {pow(a, b)}\")\n",
        "        elif choice == '6':\n",
        "            print(f\"Result: {mod(a, b)}\")\n",
        "    else:\n",
        "        print(\"Invalid choice! Please enter a number between 0 and 6.\")\n"
      ],
      "metadata": {
        "colab": {
          "base_uri": "https://localhost:8080/"
        },
        "id": "x3KWoy62NKcQ",
        "outputId": "0849e2b9-28b3-43e3-9899-4a8a28cc020e"
      },
      "execution_count": null,
      "outputs": [
        {
          "output_type": "stream",
          "name": "stdout",
          "text": [
            "Select operation:\n",
            "1. Add\n",
            "2. Subtract\n",
            "3. Multiply\n",
            "4. Divide\n",
            "5. Power\n",
            "6. Modulus\n",
            "0. Exit\n"
          ]
        }
      ]
    }
  ]
}