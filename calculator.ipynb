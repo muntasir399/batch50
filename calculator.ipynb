{
  "nbformat": 4,
  "nbformat_minor": 0,
  "metadata": {
    "colab": {
      "provenance": [],
      "authorship_tag": "ABX9TyO3nx/bNDQKKbh/tVmEadTN",
      "include_colab_link": true
    },
    "kernelspec": {
      "name": "python3",
      "display_name": "Python 3"
    },
    "language_info": {
      "name": "python"
    }
  },
  "cells": [
    {
      "cell_type": "markdown",
      "metadata": {
        "id": "view-in-github",
        "colab_type": "text"
      },
      "source": [
        "<a href=\"https://colab.research.google.com/github/muntasir399/batch50/blob/main/calculator.ipynb\" target=\"_parent\"><img src=\"https://colab.research.google.com/assets/colab-badge.svg\" alt=\"Open In Colab\"/></a>"
      ]
    },
    {
      "cell_type": "code",
      "source": [
        "\n",
        "while True:\n",
        "    print(\"Select operation:\")\n",
        "    print(\"1. Add\")\n",
        "    print(\"2. Subtract\")\n",
        "    print(\"3. Multiply\")\n",
        "    print(\"4. Divide\")\n",
        "    print(\"0. Exit\")\n",
        "\n",
        "    choice = input(\"Enter your choice: \")\n",
        "\n",
        "    if choice == '0':\n",
        "        break\n",
        "\n",
        "    if choice in ['1', '2', '3', '4']:\n",
        "        a = float(input(\"Enter the first number: \"))\n",
        "        b = float(input(\"Enter the second number: \"))\n",
        "\n",
        "        if choice == '1':\n",
        "            print(f\"Result: {add(a, b)}\")\n",
        "        elif choice == '2':\n",
        "            print(f\"Result: {subtract(a, b)}\")\n",
        "        elif choice == '3':\n",
        "            print(f\"Result: {multiply(a, b)}\")\n",
        "        elif choice == '4':\n",
        "            print(f\"Result: {divide(a, b)}\")\n",
        "    else:\n",
        "        print(\"new....... Please enter a number between 0 and 4.\")\n"
      ],
      "metadata": {
        "colab": {
          "base_uri": "https://localhost:8080/"
        },
        "id": "x3KWoy62NKcQ",
        "outputId": "9db5c2b7-d11b-4243-cdad-1a8292e25e22"
      },
      "execution_count": 8,
      "outputs": [
        {
          "name": "stdout",
          "output_type": "stream",
          "text": [
            "Select operation:\n",
            "1. Add\n",
            "2. Subtract\n",
            "3. Multiply\n",
            "4. Divide\n",
            "0. Exit\n",
            "Enter your choice: 5\n",
            "new....... Please enter a number between 0 and 4.\n",
            "Select operation:\n",
            "1. Add\n",
            "2. Subtract\n",
            "3. Multiply\n",
            "4. Divide\n",
            "0. Exit\n",
            "Enter your choice: 0\n"
          ]
        }
      ]
    }
  ]
}