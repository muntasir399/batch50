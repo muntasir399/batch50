{
  "nbformat": 4,
  "nbformat_minor": 0,
  "metadata": {
    "colab": {
      "provenance": [],
      "authorship_tag": "ABX9TyM0f1sjOLWwetoHnSl4aHMV",
      "include_colab_link": true
    },
    "kernelspec": {
      "name": "python3",
      "display_name": "Python 3"
    },
    "language_info": {
      "name": "python"
    }
  },
  "cells": [
    {
      "cell_type": "markdown",
      "metadata": {
        "id": "view-in-github",
        "colab_type": "text"
      },
      "source": [
        "<a href=\"https://colab.research.google.com/github/muntasir399/batch50/blob/main/missingval.ipynb\" target=\"_parent\"><img src=\"https://colab.research.google.com/assets/colab-badge.svg\" alt=\"Open In Colab\"/></a>"
      ]
    },
    {
      "cell_type": "code",
      "source": [
        "\n",
        "\n",
        "def getMissingVals(lst, endOfFirstList, startOf2ndList):\n",
        "    first_list = lst[:endOfFirstList]\n",
        "    second_list = lst[startOf2ndList:]\n",
        "\n",
        "    # Find missing values\n",
        "    missing_vals = [val for val in first_list if val not in second_list]\n",
        "\n",
        "    if not missing_vals:\n",
        "        return \"No missing Val\"\n",
        "    else:\n",
        "        return missing_vals\n",
        "\n",
        "# Main program to handle user input and output\n",
        "\n",
        "def get_user_input():\n",
        "    # Get the list from the user\n",
        "    user_list = input(\"Enter a list of numbers separated by spaces: \").split()\n",
        "    user_list = [int(i) for i in user_list]\n",
        "\n",
        "    # Get the end of the first list and start of the second list indices\n",
        "    end_of_first_list = int(input(\"Enter the end index of the first list: \"))\n",
        "    start_of_second_list = int(input(\"Enter the start index of the second list: \"))\n",
        "\n",
        "    return user_list, end_of_first_list, start_of_second_list\n",
        "\n",
        "if __name__ == \"__main__\":\n",
        "    # Get user input\n",
        "    user_list, end_of_first_list, start_of_second_list = get_user_input()\n",
        "\n",
        "    # Get missing values\n",
        "    result = getMissingVals(user_list, end_of_first_list, start_of_second_list)\n",
        "\n",
        "    # Print the result\n",
        "    print(f\"Missing values: {result}\")\n"
      ],
      "metadata": {
        "colab": {
          "base_uri": "https://localhost:8080/"
        },
        "id": "l_sB6bMNOVuO",
        "outputId": "d605349f-aa36-41a4-dcfc-1af9cef5085c"
      },
      "execution_count": 13,
      "outputs": [
        {
          "output_type": "stream",
          "name": "stdout",
          "text": [
            "Enter a list of numbers separated by spaces: 2 5 8 7 9\n",
            "Enter the end index of the first list: 9 \n",
            "Enter the start index of the second list: 2\n",
            "Missing values: [2, 5]\n"
          ]
        }
      ]
    }
  ]
}